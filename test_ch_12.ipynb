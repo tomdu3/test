{
  "nbformat": 4,
  "nbformat_minor": 0,
  "metadata": {
    "colab": {
      "provenance": [],
      "authorship_tag": "ABX9TyPaVgyb1gqpZcX44FYRyobA",
      "include_colab_link": true
    },
    "kernelspec": {
      "name": "python3",
      "display_name": "Python 3"
    },
    "language_info": {
      "name": "python"
    }
  },
  "cells": [
    {
      "cell_type": "markdown",
      "metadata": {
        "id": "view-in-github",
        "colab_type": "text"
      },
      "source": [
        "<a href=\"https://colab.research.google.com/github/tomdu3/test/blob/main/test_ch_12.ipynb\" target=\"_parent\"><img src=\"https://colab.research.google.com/assets/colab-badge.svg\" alt=\"Open In Colab\"/></a>"
      ]
    },
    {
      "cell_type": "markdown",
      "source": [
        "# CHAPTER 12  \n",
        "**Deploying Your Machine Learning Application**  \n",
        "\n",
        "## Introduction  \n",
        "In this chapter, we will explore how to transform your machine learning (ML) models from isolated experiments into fully functional, production-ready services by deploying them as RESTful application programming interfaces (APIs). As models progress beyond notebooks and scripts, the need to expose them reliably, often through Hypertext Transfer Protocol (HTTP) endpoints, becomes critical for real-world integration.  \n",
        "\n",
        "To achieve this, we will introduce two of the most widely used Python web frameworks for serving ML models, Flask and FastAPI. You will learn how to build and test endpoints for real-time and batch inference, validate inputs, log predictions, and generate interactive documentation.  \n",
        "\n",
        "Beyond basic deployment, we will also cover how to containerize your API with Docker, making it portable and scalable for use in cloud environments or microservice architectures. By the end of this chapter, you will not only understand how to expose your models as APIs, but also how to do this in the most secure and efficient way possible. This chapter will provide you with the practical skills and patterns needed to bridge the gap between model development and releasing your models to be production-grade inference services.  \n",
        "\n",
        "## Structure  \n",
        "In this chapter, we will cover the following topics:  \n",
        "- Introducing Flask and FastAPI for building APIs  \n",
        "- Creating RESTful endpoints for ML models  \n",
        "- Introduction to Docker  \n",
        "- Docker image creation, building and running containers  \n",
        "- Best practice for deploying ML applications  \n",
        "\n",
        "## Objectives  \n",
        "By the end of this chapter, you will be able to deploy ML models as RESTful APIs using both Flask and FastAPI, enabling real-time and batch inference workflows. You will understand how to validate inputs, structure prediction responses, and automatically generate interactive API documentation with Swagger UI and ReDoc. You will also gain hands-on experience containerizing your application using Docker for consistent and portable deployment. Finally, you will learn key best practices for production deployment, including monitoring, logging, model versioning, and updating models without downtime.\n",
        "\n",
        "---"
      ],
      "metadata": {
        "id": "x_IrLrrlRE0W"
      }
    },
    {
      "cell_type": "markdown",
      "source": [
        "## Introducing Flask and FastAPI for building APIs  \n",
        "As ML models move from experimentation (in Jupyter notebooks or Python scripts) to production, one of the most common deployment patterns is exposing them as **inference APIs**. These are web endpoints that accept input data and return predictions. Python remains the dominant language in ML, and two of the most popular frameworks for serving models over HTTP are Flask and FastAPI."
      ],
      "metadata": {
        "id": "hGZGTQEYRMAb"
      }
    },
    {
      "cell_type": "markdown",
      "source": [
        "\n",
        "### Flask, the simple and reliable option  \n",
        "**Flask (https://flask.palletsprojects.com/en/stable/)** is a minimalist Python web framework that has long been a go-to choice for wrapping ML models in simple APIs. Its lightweight nature and low learning curve make it an attractive option for getting a model up and running quickly.  \n",
        "\n",
        "The key features, for model serving, are captured in the following list:  \n",
        "- Quick to set up with minimal boiler plating, which makes it ideal for prototyping  \n",
        "- Easily integrates with any Python-based ML library (e.g., Scikit Learn, Tensorflow, and PyTorch)  \n",
        "- Wide ecosystem for extensions like **request parsing** (extracts and formats incoming data), **logging** (records API activity for debugging and monitoring), and **Cross-Origin Resource sharing (CORS)** (allows safe requests from web apps on different domains)  \n",
        "- Simple **synchronous request handling** (prevents the browser from executing additional code until the server responds), suitable for lightweight inference workloads  \n",
        "\n",
        "The ideal case for Flask would be for wrapping traditional ML models or for internal tools, where latency and scalability are not critical concerns.\n",
        "\n",
        "---"
      ],
      "metadata": {
        "id": "6bRdhUN7RWuF"
      }
    },
    {
      "cell_type": "markdown",
      "source": [
        "### FastAPI, high-performance framework for production inference  \n",
        "**FastAPI (https://fastapi.tiangolo.com/)** is a modern Python web framework designed for high performance and developer productivity, especially useful for deploying ML models as APIs. It is built on **ASGI (Asynchronous Server Gateway Interface)**, a modern alternative to **WSGI (Web Server Gateway Interface)**. While WSGI handles one request at a time, which can become a bottleneck under heavy traffic, ASGI supports asynchronous programming, allowing **FastAPI** to handle many requests at once without blocking. This makes it highly efficient for real-time or high-throughput inference scenarios.  \n",
        "\n",
        "**FastAPI** also leverages modern Python features like type annotations. Python is a dynamically typed language, meaning you do not have to specify variable types. However, with type annotations, you can add optional *hints* about what type of data a function expects or returns (e.g., int, str, List[float]). **FastAPI** uses these hints, along with libraries like **Pydantic (https://docs.pydantic.dev/latest/)**, to automatically validate inputs, serialize outputs, and generate clear, interactive documentation, all with minimal extra code.  \n",
        "\n",
        "Together, these features make **FastAPI** a powerful choice for creating fast, scalable, and well-documented APIs, making it especially well-suited for serving ML models in production environments.  \n",
        "\n",
        "Key features for model serving are as follows:  \n",
        "- **Asynchronous request handling**: Ideal for input/output bound tasks such as loading large models or calling external APIs.  \n",
        "- **Automatic input validation**: Using Pydantic reduces the chance of errors during inference.  \n",
        "- **Built-in Swagger UI and ReDoc**: Built-in Swagger UI **(https://swagger.io/)** and ReDoc **(https://redocly.com/docs/redoc)** enable auto-generating API docs that make testing and debugging easier.  \n",
        "- **High throughput and low latency**: Suitable for real-time (one request at a time) or batch inference (uploading data in batches) in production environments.  \n",
        "\n",
        "**FastAPI** is ideal when serving deep learning models, running real-time predictions, or deploying at scale behind load balancers or in containerized environments like Docker and Kubernetes.  \n",
        "\n",
        "When deploying ML models as APIs, **Flask** and **FastAPI** are both strong candidates. Flask offers a fast path to deployment for simple models and use cases, while FastAPI provides better performance, maintainability, and support for modern Python features, making it ideal for production-grade inference services. If you are experimenting or building proof-of-concept, Flask might be all you need, but if you are planning to scale, handle concurrent requests, or serve latency-sensitive models, FastAPI is the clear winner.\n",
        "\n",
        "---"
      ],
      "metadata": {
        "id": "_B2SPs4DRZoE"
      }
    },
    {
      "cell_type": "markdown",
      "source": [
        "## Creating RESTful endpoints for ML models  \n",
        "A RESTful endpoint is a URL through which clients (like web apps or scripts) can interact with a server using standard HTTP methods such as GET, POST, PUT, and DELETE (these will be explained ahead). When serving an ML model, you typically expose an endpoint, like `/predict`, where a client sends input data [`e.g., Java Script Object Notation (JSON)`] and the server responds with a prediction.  \n",
        "\n",
        "REST stands for **Representational State Transfer**. In simple terms, a RESTful API organizes communication between systems around **resources** (like `/predict`) and **actions** (like sending a POST request). The main types of methods used in RESTful endpoints are explained hereunder:  \n",
        "- **GET** is used to retrieve data from the server. We will use this in our endpoint to get a health status.  \n",
        "- **POST** is the most used method for sending inference across HTTP. This says send the data to the server and create or process something. This is widely used on the internet for form submission when you fill in your credit card details on a website.  \n",
        "- **PUT** is used to update or replace an existing resource, such as updating a user’s profile. This is used for managing model versioning or settings via an API.  \n",
        "- **DELETE** is used to delete a resource on the server, such as deleting an account, record, or file. This is seldom used for inference endpoints.  \n",
        "\n",
        "The common pattern for ML inference is to do the following:  \n",
        "- A POST request is made to an endpoint like `/predict`.  \n",
        "- The server processes the input, runs it through a **trained model** or **Sci-Kit Learn pipeline**, and returns the results as a **JSON** response.  \n",
        "\n",
        "In the following sections, we will create an endpoint in Flask and FastAPI, and later we will dockerize these endpoints and make them microservices.\n",
        "\n",
        "---"
      ],
      "metadata": {
        "id": "KOVyl6qWRd_5"
      }
    },
    {
      "cell_type": "markdown",
      "source": [
        "## Creating a RESTful Flask Endpoint\n",
        "\n",
        "Now that you understand what RESTful endpoints are and why POST is typically used for model predictions, let's walk through building one in Flask. This section will show you how to structure your code, receive input data, run it through a trained model, and return the prediction.\n",
        "\n",
        "In this section, we will use the model developed in **Chapter 10: Building Scikit-Learn Multi-Step Pipelines**, along with its corresponding preprocessor and serialized (saved) model. If you haven't read that chapter, don't worry. The supporting repository includes a `Model_Training` directory containing everything you need to retrain the model from scratch. In the steps that follow, we will set up all the necessary components to prepare for API integration.\n",
        "\n",
        "### Folder Setup\n",
        "\n",
        "When developing Flask and FastAPI applications, it's pivotal to separate these into sub-directories, as these directories will later be used to build Docker images. Please follow these steps to set up the initial folder structure:\n",
        "\n",
        "1. Create a master directory and name it `flask`.\n",
        "2. Inside this master directory, copy the `models` and `pipeline` directories from the `trained_model` folder, as these are our serialized artifacts which we'll need for our main Flask app.\n",
        "3. When you've done this, your folder structure inside the `flask` root folder should just have the `models` and `pipeline` folders.\n",
        "\n",
        "In the next section, we will create the Flask application.\n",
        "\n",
        "---"
      ],
      "metadata": {
        "id": "3VCMGOlMRox8"
      }
    },
    {
      "cell_type": "markdown",
      "source": [
        "## Creating the Flask application\n",
        "At this point, we have the folder structure in place and are ready to create our `app.py` file inside the `flask` folder. It is not a Jupyter notebook this time, as we need to define it as a runnable script from inside the Docker container later on. We will build the script file step by step:"
      ],
      "metadata": {
        "id": "DmcVNG9BWTRu"
      }
    },
    {
      "cell_type": "markdown",
      "source": [
        "1. We will define our imports to make our script work. Alongside `flask`, we will be using `flask_restx` (as this simplifies the Swagger documentation process massively):"
      ],
      "metadata": {
        "id": "47Gid0Y9W4AD"
      }
    },
    {
      "cell_type": "code",
      "source": [
        "%pip install flask flask-restx loguru"
      ],
      "metadata": {
        "colab": {
          "base_uri": "https://localhost:8080/"
        },
        "id": "OgLcGcspXVVy",
        "outputId": "ba30ec66-6ee3-4f69-c8d9-63f854fd29c7"
      },
      "execution_count": 5,
      "outputs": [
        {
          "output_type": "stream",
          "name": "stdout",
          "text": [
            "Requirement already satisfied: flask in /usr/local/lib/python3.11/dist-packages (3.1.1)\n",
            "Collecting flask-restx\n",
            "  Downloading flask_restx-1.3.0-py2.py3-none-any.whl.metadata (9.3 kB)\n",
            "Collecting loguru\n",
            "  Downloading loguru-0.7.3-py3-none-any.whl.metadata (22 kB)\n",
            "Requirement already satisfied: blinker>=1.9.0 in /usr/local/lib/python3.11/dist-packages (from flask) (1.9.0)\n",
            "Requirement already satisfied: click>=8.1.3 in /usr/local/lib/python3.11/dist-packages (from flask) (8.2.1)\n",
            "Requirement already satisfied: itsdangerous>=2.2.0 in /usr/local/lib/python3.11/dist-packages (from flask) (2.2.0)\n",
            "Requirement already satisfied: jinja2>=3.1.2 in /usr/local/lib/python3.11/dist-packages (from flask) (3.1.6)\n",
            "Requirement already satisfied: markupsafe>=2.1.1 in /usr/local/lib/python3.11/dist-packages (from flask) (3.0.2)\n",
            "Requirement already satisfied: werkzeug>=3.1.0 in /usr/local/lib/python3.11/dist-packages (from flask) (3.1.3)\n",
            "Collecting aniso8601>=0.82 (from flask-restx)\n",
            "  Downloading aniso8601-10.0.1-py2.py3-none-any.whl.metadata (23 kB)\n",
            "Requirement already satisfied: jsonschema in /usr/local/lib/python3.11/dist-packages (from flask-restx) (4.25.0)\n",
            "Requirement already satisfied: pytz in /usr/local/lib/python3.11/dist-packages (from flask-restx) (2025.2)\n",
            "Requirement already satisfied: importlib-resources in /usr/local/lib/python3.11/dist-packages (from flask-restx) (6.5.2)\n",
            "Requirement already satisfied: attrs>=22.2.0 in /usr/local/lib/python3.11/dist-packages (from jsonschema->flask-restx) (25.3.0)\n",
            "Requirement already satisfied: jsonschema-specifications>=2023.03.6 in /usr/local/lib/python3.11/dist-packages (from jsonschema->flask-restx) (2025.4.1)\n",
            "Requirement already satisfied: referencing>=0.28.4 in /usr/local/lib/python3.11/dist-packages (from jsonschema->flask-restx) (0.36.2)\n",
            "Requirement already satisfied: rpds-py>=0.7.1 in /usr/local/lib/python3.11/dist-packages (from jsonschema->flask-restx) (0.26.0)\n",
            "Requirement already satisfied: typing-extensions>=4.4.0 in /usr/local/lib/python3.11/dist-packages (from referencing>=0.28.4->jsonschema->flask-restx) (4.14.1)\n",
            "Downloading flask_restx-1.3.0-py2.py3-none-any.whl (2.8 MB)\n",
            "\u001b[2K   \u001b[90m━━━━━━━━━━━━━━━━━━━━━━━━━━━━━━━━━━━━━━━━\u001b[0m \u001b[32m2.8/2.8 MB\u001b[0m \u001b[31m30.1 MB/s\u001b[0m eta \u001b[36m0:00:00\u001b[0m\n",
            "\u001b[?25hDownloading loguru-0.7.3-py3-none-any.whl (61 kB)\n",
            "\u001b[2K   \u001b[90m━━━━━━━━━━━━━━━━━━━━━━━━━━━━━━━━━━━━━━━━\u001b[0m \u001b[32m61.6/61.6 kB\u001b[0m \u001b[31m4.0 MB/s\u001b[0m eta \u001b[36m0:00:00\u001b[0m\n",
            "\u001b[?25hDownloading aniso8601-10.0.1-py2.py3-none-any.whl (52 kB)\n",
            "\u001b[2K   \u001b[90m━━━━━━━━━━━━━━━━━━━━━━━━━━━━━━━━━━━━━━━━\u001b[0m \u001b[32m52.8/52.8 kB\u001b[0m \u001b[31m3.5 MB/s\u001b[0m eta \u001b[36m0:00:00\u001b[0m\n",
            "\u001b[?25hInstalling collected packages: aniso8601, loguru, flask-restx\n",
            "Successfully installed aniso8601-10.0.1 flask-restx-1.3.0 loguru-0.7.3\n"
          ]
        }
      ]
    },
    {
      "cell_type": "code",
      "source": [
        "import joblib\n",
        "import numpy as np\n",
        "import pandas as pd\n",
        "from flask import Flask\n",
        "from flask_restx import Api, Resource, fields\n",
        "from loguru import logger\n",
        "import os"
      ],
      "metadata": {
        "id": "JAMMWBLUW_z-"
      },
      "execution_count": 6,
      "outputs": []
    },
    {
      "cell_type": "markdown",
      "source": [
        "2. It is good practice, when you are making production_grade applications, to have a logs directory to save our logs. We will be using **loguru (https://loguru.readthedocs.io/en/stable/)**, as this is easier than the default logging\n",
        "inside the logging module. This makes a directory, and then we use **logger.add** to add a new config file and set the rotation to say overwrite the config when it gets 1 MB in size:"
      ],
      "metadata": {
        "id": "33kjmlOhXA1Z"
      }
    },
    {
      "cell_type": "code",
      "source": [
        "os.makedirs(\"logs\", exist_ok=True)\n",
        "logger.add(\"logs/api.log\", rotation=\"1 MB\")"
      ],
      "metadata": {
        "colab": {
          "base_uri": "https://localhost:8080/"
        },
        "id": "Ig314ADGYCSA",
        "outputId": "d549f125-f860-4004-87d8-80fcc43682c9"
      },
      "execution_count": 7,
      "outputs": [
        {
          "output_type": "execute_result",
          "data": {
            "text/plain": [
              "1"
            ]
          },
          "metadata": {},
          "execution_count": 7
        }
      ]
    },
    {
      "cell_type": "markdown",
      "source": [
        "3. Define the model path:"
      ],
      "metadata": {
        "id": "6Tx_YsRGYEjG"
      }
    },
    {
      "cell_type": "code",
      "source": [
        "MODEL_PATH = \"models/stack_class_pipe.joblib\""
      ],
      "metadata": {
        "id": "WVh5Ixl-YI3h"
      },
      "execution_count": 8,
      "outputs": []
    },
    {
      "cell_type": "markdown",
      "source": [
        "4. In the next step, we will define a try and exception block to try and load the model, if the model loads successfully, then the logger logs the success and if an exception occurs, then it is raised:"
      ],
      "metadata": {
        "id": "QlSSAAfrYKbC"
      }
    },
    {
      "cell_type": "code",
      "source": [
        "try:\n",
        "  model = joblib.load(MODEL_PATH)\n",
        "  logger.success(f\"Model loaded successfully from {MODEL_PATH}\")\n",
        "except Exception as e:\n",
        "  logger.error(f\"Failed to load model from {MODEL_PATH}: {e}\")\n",
        "  raise"
      ],
      "metadata": {
        "colab": {
          "base_uri": "https://localhost:8080/"
        },
        "id": "4Tvgi9VMYSWW",
        "outputId": "a0137642-1793-4ddd-c8c4-ca89cfd6723f"
      },
      "execution_count": 9,
      "outputs": [
        {
          "output_type": "stream",
          "name": "stderr",
          "text": [
            "\u001b[32m2025-08-04 10:32:22.059\u001b[0m | \u001b[32m\u001b[1mSUCCESS \u001b[0m | \u001b[36m__main__\u001b[0m:\u001b[36m<cell line: 0>\u001b[0m:\u001b[36m3\u001b[0m - \u001b[32m\u001b[1mModel loaded successfully from models/stack_class_pipe.joblib\u001b[0m\n"
          ]
        }
      ]
    },
    {
      "cell_type": "markdown",
      "source": [
        "5. The next step will be to define the app, which creates a Flask application instance, using the current module’s name to set the app’s configuration and resource paths:"
      ],
      "metadata": {
        "id": "UiZ_WZHkYXdS"
      }
    },
    {
      "cell_type": "code",
      "source": [
        "app = Flask(__name__)"
      ],
      "metadata": {
        "id": "LylkfYuGYhoZ"
      },
      "execution_count": 10,
      "outputs": []
    },
    {
      "cell_type": "markdown",
      "source": [
        "6. In this step, we use a `flask_restx` API object linked to the Flask app, this provides versioning, a title and description for the API and enables Swagger documentation at the `/docs` endpoint:"
      ],
      "metadata": {
        "id": "l7U0BbwSYkpi"
      }
    },
    {
      "cell_type": "code",
      "source": [
        "api = Api(app, version=\"1.0\", title=\"Customer Churn Prediction API\",\n",
        "          description=\"Predict churn risk category for customer\",\n",
        "          doc=\"/docs\")"
      ],
      "metadata": {
        "id": "obh1vHG1YubV"
      },
      "execution_count": 11,
      "outputs": []
    },
    {
      "cell_type": "markdown",
      "source": [
        "7. We now need a new namespace (endpoint) which will be our main predict method:"
      ],
      "metadata": {
        "id": "Ue0Ogd-4Yx0J"
      }
    },
    {
      "cell_type": "code",
      "source": [
        "ns = api.namespace(\"predict\",\n",
        "                   description=\"Churn prediction operations\")"
      ],
      "metadata": {
        "id": "iyQNtDfiY162"
      },
      "execution_count": 12,
      "outputs": []
    },
    {
      "cell_type": "markdown",
      "source": [
        "8. Here, we define what the data structure of the dataset and trained model was, these fields need to match the values and types the model expects, but we know these values are there in the data:"
      ],
      "metadata": {
        "id": "hBhVjEq1Y5qK"
      }
    },
    {
      "cell_type": "code",
      "source": [
        "input_model = api.model(\"Input\", {\n",
        "    'CustomerID': fields.String(example='CUST00001'),\n",
        "    'Age': fields.Float(example=34.78),\n",
        "    'Gender': fields.String(enum=['Male', 'Female']),\n",
        "    'Tenure': fields.Float(example=22.46),\n",
        "    'MonthlyCharges': fields.Float(example=86.31),\n",
        "    'ServiceUsage': fields.Float(example=1.36),\n",
        "    'ContractType': fields.String(enum=['Month-to-Month',\n",
        "                                        'One-Year', 'Two-Year']),\n",
        "    'PaymentMethod': fields.String(enum=['Credit Card', 'Bank Transfer',\n",
        "                                         'Electronic Check', 'Mailed Check']),\n",
        "    'CustomerSupportCalls': fields.Float(example=0.0)})"
      ],
      "metadata": {
        "id": "O-PZkhnMY9oE"
      },
      "execution_count": 13,
      "outputs": []
    },
    {
      "cell_type": "markdown",
      "source": [
        "9. We need to define the meaning of each model output, as the raw outputs, 0, 1, or 2, are just numerical labels without context. To make them understandable, we will create a dictionary that maps each integer to a meaningful category:"
      ],
      "metadata": {
        "id": "aCXxqBeQZVPh"
      }
    },
    {
      "cell_type": "code",
      "source": [
        "CHURN_RISK_MAP = {\n",
        "    0: \"Low Risk\",\n",
        "    1: \"Medium Risk\",\n",
        "    2: \"High Risk\"}"
      ],
      "metadata": {
        "id": "6iGbo6SEZXvN"
      },
      "execution_count": 14,
      "outputs": []
    },
    {
      "cell_type": "markdown",
      "source": [
        "10. In this step, we create a REST API endpoint (\"/\") using `flask_restx`, which will accept POST requests for predicting a customer’s churn risk category. The Predict class, inheriting from Resource, defines this endpoint. When a request is received, it expects input data that matches the `input_model` schema. The data is extracted from the request payload and converted into a DataFrame, formatted for the model. The `CustomerID` is preserved for tracking, while the remaining features are used to generate a prediction and probability scores using a preloaded ML model.\n",
        "\n",
        "- The model’s raw output, an integer representing a risk category, is then mapped to a human-readable label using the `CHURN_RISK_MAP` dictionary. The response includes the customer ID, the interpreted risk category, and the prediction probabilities for each class (**Low, Medium, High**). Logs are generated at each step for\n",
        "traceability, and if an error occurs during processing, a 400-error response is returned\n",
        "with the error message:"
      ],
      "metadata": {
        "id": "lriquyqfZeuH"
      }
    },
    {
      "cell_type": "code",
      "source": [
        "@ns.route(\"/\")\n",
        "class Predict(Resource):\n",
        "    \"\"\"\n",
        "    Endpoint to predict churn risk category for a customer.\n",
        "    \"\"\"\n",
        "    @ns.expect(input_model)\n",
        "    def post(self):\n",
        "        data = api.payload\n",
        "        logger.info(f\"Received prediction request: {data}\")\n",
        "        # Prepare the input DataFrame\n",
        "\n",
        "        try:\n",
        "            input_df = pd.DataFrame([{\n",
        "                'CustomerID': data['CustomerID'],\n",
        "                'Age': data['Age'],\n",
        "                'Gender': data['Gender'],\n",
        "                'Tenure': data['Tenure'],\n",
        "                'MonthlyCharges': data['MonthlyCharges'],\n",
        "                'ServiceUsage': data['ServiceUsage'],\n",
        "                'ContractType': data['ContractType'],\n",
        "                'PaymentMethod': data['PaymentMethod'],\n",
        "                'CustomerSupportCalls': data['CustomerSupportCalls'],\n",
        "            }])\n",
        "\n",
        "            input_X = input_df.drop(columns=['CustomerID'])\n",
        "            logger.debug(f\"Input DataFrame for prediction: {input_X}\")\n",
        "            # Predict the churn risk category\n",
        "            pred = model.predict(input_X)[0]\n",
        "            pred_proba = model.predict_proba(input_X)[0]\n",
        "            logger.info(f\"Prediction result: {pred}, Probabilities: {pred_proba}\")\n",
        "            #Create a response dictionary\n",
        "            response = {\n",
        "                    \"CustomerID\": data['CustomerID'],\n",
        "                    \"prediction\": CHURN_RISK_MAP.get(pred, \"Unknown\"),\n",
        "                    \"prediction_probs\": {\n",
        "                        \"Low Risk\": float(pred_proba[0]),\n",
        "                        \"Medium Risk\": float(pred_proba[1]),\n",
        "                        \"High Risk\": float(pred_proba[2])}\n",
        "                        }\n",
        "            logger.success(f\"Prediction result for {data['CustomerID']}: {response}\")\n",
        "            return response, 200\n",
        "        except Exception as e:\n",
        "            logger.error(f\"Error processing prediction request: {e}\")\n",
        "            return {\"error\": str(e)}, 400"
      ],
      "metadata": {
        "id": "wsZZQGUPZxoQ"
      },
      "execution_count": 15,
      "outputs": []
    },
    {
      "cell_type": "markdown",
      "source": [
        "11. For our API, we want to check the health of our endpoint, this is what this step does, as it sets up a `/health` GET endpoint using `flask_restx` to monitor the service’s readiness and functionality. When called, it logs the request with `logger.info()` and first checks whether the ML **model** is loaded into memory. If the model is `None`, it logs an error and returns a **500 response** indicating that the service is unhealthy. To further ensure the model is functional, it optionally performs a dummy inference using a hardcoded **DataFrame** containing representative input data. This simulates a prediction to confirm the model can process inputs without errors. If the inference fails, an error is logged and corresponding **500** error is returned. If all checks pass, the service responds with a **200** status and a message indicating the API is healthy:"
      ],
      "metadata": {
        "id": "R6nBXJiGb54A"
      }
    },
    {
      "cell_type": "code",
      "source": [
        "@ns.route(\"/health\")\n",
        "class HealthCheck(Resource):\n",
        "    def get(self):\n",
        "        logger.info(\"Health check endpoint called\")\n",
        "        if model is None:\n",
        "            logger.error(\"Model is not loaded!\")\n",
        "            return {\"status\": \"unhealthy\",\n",
        "                    \"reason\": \"Model not loaded\"}, 500\n",
        "        try:\n",
        "            dummy = pd.DataFrame([{\n",
        "                \"Age\": 30,\n",
        "                \"Gender\": \"Male\",\n",
        "                \"Tenure\": 5,\n",
        "                \"MonthlyCharges\": 50,\n",
        "                \"ServiceUsage\": 1,\n",
        "                \"ContractType\": \"Month-to-Month\",\n",
        "                \"PaymentMethod\": \"Credit Card\",\n",
        "                \"CustomerSupportCalls\": 1,\n",
        "            }])\n",
        "            _ = model.predict(dummy)\n",
        "        except Exception as e:\n",
        "            logger.error(f\"Model inference failed during health check: {e}\")\n",
        "            return {\"status\": \"unhealthy\", \"reason\": \"Inference failed\"}, 500\n",
        "        logger.info(\"Health check passed\")\n",
        "        return {\"status\": \"healthy\"}, 200"
      ],
      "metadata": {
        "id": "T1vgonRXcbyJ"
      },
      "execution_count": 16,
      "outputs": []
    },
    {
      "cell_type": "code",
      "source": [
        "if __name__ == \"__main__\":\n",
        "    logger.info(\"Starting Churn Classifier API Server.\")\n",
        "    app.run(debug=False)"
      ],
      "metadata": {
        "id": "oxSuL8VvcgnA",
        "colab": {
          "base_uri": "https://localhost:8080/"
        },
        "outputId": "dd5939bb-88d6-4a03-8441-1cc86fa8831c"
      },
      "execution_count": 17,
      "outputs": [
        {
          "output_type": "stream",
          "name": "stderr",
          "text": [
            "\u001b[32m2025-08-04 10:32:53.904\u001b[0m | \u001b[1mINFO    \u001b[0m | \u001b[36m__main__\u001b[0m:\u001b[36m<cell line: 0>\u001b[0m:\u001b[36m2\u001b[0m - \u001b[1mStarting Churn Classifier API Server.\u001b[0m\n"
          ]
        },
        {
          "output_type": "stream",
          "name": "stdout",
          "text": [
            " * Serving Flask app '__main__'\n",
            " * Debug mode: off\n"
          ]
        },
        {
          "output_type": "stream",
          "name": "stderr",
          "text": [
            "INFO:werkzeug:\u001b[31m\u001b[1mWARNING: This is a development server. Do not use it in a production deployment. Use a production WSGI server instead.\u001b[0m\n",
            " * Running on http://127.0.0.1:5000\n",
            "INFO:werkzeug:\u001b[33mPress CTRL+C to quit\u001b[0m\n"
          ]
        }
      ]
    },
    {
      "cell_type": "code",
      "source": [
        "!unzip model_training.zip -d ."
      ],
      "metadata": {
        "colab": {
          "base_uri": "https://localhost:8080/"
        },
        "id": "reQRxd4xoPUH",
        "outputId": "82e780bc-2e86-4e24-9e81-878a9b3e6be5"
      },
      "execution_count": 4,
      "outputs": [
        {
          "output_type": "stream",
          "name": "stdout",
          "text": [
            "Archive:  model_training.zip\n",
            "   creating: ./model_training/\n",
            "   creating: ./model_training/data/\n",
            "  inflating: ./model_training/data/synth_customer_churn.csv  \n",
            "   creating: ./model_training/models/\n",
            "  inflating: ./model_training/models/preprocessor.joblib  \n",
            "  inflating: ./model_training/models/stack_class_pipe.joblib  \n",
            "   creating: ./model_training/pipeline/\n",
            " extracting: ./model_training/pipeline/__init__.py  \n",
            "  inflating: ./model_training/pipeline/binner.py  \n",
            "  inflating: ./model_training/preprocess.py  \n",
            "  inflating: ./model_training/train.py  \n"
          ]
        }
      ]
    },
    {
      "cell_type": "code",
      "source": [],
      "metadata": {
        "id": "0_Wiv32OoRG3"
      },
      "execution_count": null,
      "outputs": []
    }
  ]
}